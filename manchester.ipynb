{
 "cells": [
  {
   "cell_type": "code",
   "execution_count": null,
   "id": "93fdb3d4-0157-4c45-b004-1a3f84fb3345",
   "metadata": {},
   "outputs": [],
   "source": [
    "import matplotlib.pyplot as plt\n",
    "\n",
    "def manchester_encode(input_string):\n",
    "    encoded_signal = []\n",
    "\n",
    "    for char in input_string:\n",
    "        binary_char = bin(ord(char))[2:].zfill(8)\n",
    "        for bit in binary_char:\n",
    "            if bit == '0':\n",
    "                encoded_signal.extend([1, 1, 0, 0])\n",
    "            else:\n",
    "                encoded_signal.extend([0, 0, 1, 1])\n",
    "\n",
    "    return encoded_signal\n",
    "\n",
    "def plot_manchester_signal(encoded_signal):\n",
    "    fig, axs = plt.subplots(dpi=300, figsize=(20, 6))\n",
    "    plt.plot(encoded_signal, drawstyle='steps-pre')\n",
    "    plt.title('Manchester Encoded Signal')\n",
    "    plt.xlabel('Time')\n",
    "    plt.ylabel('Voltage Level')\n",
    "    plt.xticks\n",
    "    plt.yticks([0, 1, 4], ['Low', 'High', ''])\n",
    "    plt.show()\n",
    "\n",
    "if __name__ == \"__main__\":\n",
    "    # Input ASCII string\n",
    "    input_string = input(\"Enter ASCII string: \")\n",
    "\n",
    "    # Encode the string using Manchester encoding\n",
    "    encoded_signal = manchester_encode(input_string)\n",
    "\n",
    "    # Plot the Manchester-encoded signal\n",
    "    plot_manchester_signal(encoded_signal)\n"
   ]
  },
  {
   "cell_type": "code",
   "execution_count": null,
   "id": "0e012d2f-46dd-4d01-a1d9-7d5ef02eea62",
   "metadata": {},
   "outputs": [],
   "source": []
  },
  {
   "cell_type": "code",
   "execution_count": null,
   "id": "52723ca8-0b20-4678-b2e7-0484d8ff7e99",
   "metadata": {},
   "outputs": [],
   "source": []
  }
 ],
 "metadata": {
  "kernelspec": {
   "display_name": "Python 3 (ipykernel)",
   "language": "python",
   "name": "python3"
  },
  "language_info": {
   "codemirror_mode": {
    "name": "ipython",
    "version": 3
   },
   "file_extension": ".py",
   "mimetype": "text/x-python",
   "name": "python",
   "nbconvert_exporter": "python",
   "pygments_lexer": "ipython3",
   "version": "3.11.6"
  }
 },
 "nbformat": 4,
 "nbformat_minor": 5
}
